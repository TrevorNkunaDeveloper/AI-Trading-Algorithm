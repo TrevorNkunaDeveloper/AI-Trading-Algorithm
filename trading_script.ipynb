{
 "cells": [
  {
   "cell_type": "code",
   "execution_count": 4,
   "id": "a4600e49-1f98-4be3-9a4b-bff0f6a0f1d3",
   "metadata": {},
   "outputs": [
    {
     "name": "stdout",
     "output_type": "stream",
     "text": [
      "Defaulting to user installation because normal site-packages is not writeable\n",
      "Collecting alpaca-py\n",
      "  Obtaining dependency information for alpaca-py from https://files.pythonhosted.org/packages/f5/d7/bc9e4fe8e4d2b4d879960872925c59e4fcb8dc244445341a800bfc3fd0d6/alpaca_py-0.13.3-py3-none-any.whl.metadata\n",
      "  Downloading alpaca_py-0.13.3-py3-none-any.whl.metadata (10 kB)\n",
      "Requirement already satisfied: msgpack<2.0.0,>=1.0.3 in c:\\programdata\\anaconda3\\lib\\site-packages (from alpaca-py) (1.0.3)\n",
      "Requirement already satisfied: pandas>=1.5.3 in c:\\programdata\\anaconda3\\lib\\site-packages (from alpaca-py) (1.5.3)\n",
      "Collecting pydantic<3.0.0,>=2.0.3 (from alpaca-py)\n",
      "  Obtaining dependency information for pydantic<3.0.0,>=2.0.3 from https://files.pythonhosted.org/packages/0a/2b/64066de1c4cf3d4ed623beeb3bbf3f8d0cc26661f1e7d180ec5eb66b75a5/pydantic-2.5.2-py3-none-any.whl.metadata\n",
      "  Downloading pydantic-2.5.2-py3-none-any.whl.metadata (65 kB)\n",
      "     ---------------------------------------- 0.0/65.2 kB ? eta -:--:--\n",
      "     ------------------ --------------------- 30.7/65.2 kB ? eta -:--:--\n",
      "     ---------------------------------------- 65.2/65.2 kB 1.2 MB/s eta 0:00:00\n",
      "Requirement already satisfied: requests<3.0.0,>=2.30.0 in c:\\programdata\\anaconda3\\lib\\site-packages (from alpaca-py) (2.31.0)\n",
      "Collecting sseclient-py<2.0.0,>=1.7.2 (from alpaca-py)\n",
      "  Obtaining dependency information for sseclient-py<2.0.0,>=1.7.2 from https://files.pythonhosted.org/packages/49/58/97655efdfeb5b4eeab85b1fc5d3fa1023661246c2ab2a26ea8e47402d4f2/sseclient_py-1.8.0-py2.py3-none-any.whl.metadata\n",
      "  Downloading sseclient_py-1.8.0-py2.py3-none-any.whl.metadata (2.0 kB)\n",
      "Collecting websockets<12.0.0,>=11.0.3 (from alpaca-py)\n",
      "  Downloading websockets-11.0.3-cp311-cp311-win_amd64.whl (124 kB)\n",
      "     ---------------------------------------- 0.0/124.7 kB ? eta -:--:--\n",
      "     ------------------- ------------------- 61.4/124.7 kB 3.2 MB/s eta 0:00:01\n",
      "     -------------------------------------- 124.7/124.7 kB 1.8 MB/s eta 0:00:00\n",
      "Requirement already satisfied: python-dateutil>=2.8.1 in c:\\programdata\\anaconda3\\lib\\site-packages (from pandas>=1.5.3->alpaca-py) (2.8.2)\n",
      "Requirement already satisfied: pytz>=2020.1 in c:\\programdata\\anaconda3\\lib\\site-packages (from pandas>=1.5.3->alpaca-py) (2022.7)\n",
      "Requirement already satisfied: numpy>=1.21.0 in c:\\programdata\\anaconda3\\lib\\site-packages (from pandas>=1.5.3->alpaca-py) (1.24.3)\n",
      "Collecting annotated-types>=0.4.0 (from pydantic<3.0.0,>=2.0.3->alpaca-py)\n",
      "  Obtaining dependency information for annotated-types>=0.4.0 from https://files.pythonhosted.org/packages/28/78/d31230046e58c207284c6b2c4e8d96e6d3cb4e52354721b944d3e1ee4aa5/annotated_types-0.6.0-py3-none-any.whl.metadata\n",
      "  Downloading annotated_types-0.6.0-py3-none-any.whl.metadata (12 kB)\n",
      "Collecting pydantic-core==2.14.5 (from pydantic<3.0.0,>=2.0.3->alpaca-py)\n",
      "  Obtaining dependency information for pydantic-core==2.14.5 from https://files.pythonhosted.org/packages/04/a1/36cea283ded0641e8c374cdcacfdab035c102467ac5ec721b7527c8ac1cf/pydantic_core-2.14.5-cp311-none-win_amd64.whl.metadata\n",
      "  Downloading pydantic_core-2.14.5-cp311-none-win_amd64.whl.metadata (6.6 kB)\n",
      "Requirement already satisfied: typing-extensions>=4.6.1 in c:\\programdata\\anaconda3\\lib\\site-packages (from pydantic<3.0.0,>=2.0.3->alpaca-py) (4.7.1)\n",
      "Requirement already satisfied: charset-normalizer<4,>=2 in c:\\programdata\\anaconda3\\lib\\site-packages (from requests<3.0.0,>=2.30.0->alpaca-py) (2.0.4)\n",
      "Requirement already satisfied: idna<4,>=2.5 in c:\\programdata\\anaconda3\\lib\\site-packages (from requests<3.0.0,>=2.30.0->alpaca-py) (3.4)\n",
      "Requirement already satisfied: urllib3<3,>=1.21.1 in c:\\programdata\\anaconda3\\lib\\site-packages (from requests<3.0.0,>=2.30.0->alpaca-py) (1.26.16)\n",
      "Requirement already satisfied: certifi>=2017.4.17 in c:\\programdata\\anaconda3\\lib\\site-packages (from requests<3.0.0,>=2.30.0->alpaca-py) (2023.7.22)\n",
      "Requirement already satisfied: six>=1.5 in c:\\programdata\\anaconda3\\lib\\site-packages (from python-dateutil>=2.8.1->pandas>=1.5.3->alpaca-py) (1.16.0)\n",
      "Downloading alpaca_py-0.13.3-py3-none-any.whl (102 kB)\n",
      "   ---------------------------------------- 0.0/102.9 kB ? eta -:--:--\n",
      "   ---------------------------------------- 0.0/102.9 kB ? eta -:--:--\n",
      "   ----------- --------------------------- 30.7/102.9 kB 660.6 kB/s eta 0:00:01\n",
      "   ----------------------------------- ---- 92.2/102.9 kB 1.1 MB/s eta 0:00:01\n",
      "   -------------------------------------- 102.9/102.9 kB 849.9 kB/s eta 0:00:00\n",
      "Downloading pydantic-2.5.2-py3-none-any.whl (381 kB)\n",
      "   ---------------------------------------- 0.0/381.9 kB ? eta -:--:--\n",
      "   --- ------------------------------------ 30.7/381.9 kB ? eta -:--:--\n",
      "   ----------- ---------------------------- 112.6/381.9 kB 2.2 MB/s eta 0:00:01\n",
      "   ----------------- ---------------------- 163.8/381.9 kB 2.0 MB/s eta 0:00:01\n",
      "   ----------------------- ---------------- 225.3/381.9 kB 2.0 MB/s eta 0:00:01\n",
      "   ------------------------------- -------- 297.0/381.9 kB 1.8 MB/s eta 0:00:01\n",
      "   ---------------------------------------  378.9/381.9 kB 2.0 MB/s eta 0:00:01\n",
      "   ---------------------------------------- 381.9/381.9 kB 1.8 MB/s eta 0:00:00\n",
      "Downloading pydantic_core-2.14.5-cp311-none-win_amd64.whl (1.9 MB)\n",
      "   ---------------------------------------- 0.0/1.9 MB ? eta -:--:--\n",
      "    --------------------------------------- 0.0/1.9 MB 2.0 MB/s eta 0:00:01\n",
      "   - -------------------------------------- 0.1/1.9 MB 1.3 MB/s eta 0:00:02\n",
      "   -- ------------------------------------- 0.1/1.9 MB 1.1 MB/s eta 0:00:02\n",
      "   --- ------------------------------------ 0.1/1.9 MB 1.1 MB/s eta 0:00:02\n",
      "   --- ------------------------------------ 0.1/1.9 MB 1.1 MB/s eta 0:00:02\n",
      "   --- ------------------------------------ 0.2/1.9 MB 766.6 kB/s eta 0:00:03\n",
      "   ---- ----------------------------------- 0.2/1.9 MB 778.2 kB/s eta 0:00:03\n",
      "   ---- ----------------------------------- 0.2/1.9 MB 801.7 kB/s eta 0:00:03\n",
      "   ----- ---------------------------------- 0.3/1.9 MB 787.7 kB/s eta 0:00:03\n",
      "   ------ --------------------------------- 0.3/1.9 MB 895.6 kB/s eta 0:00:02\n",
      "   ------- -------------------------------- 0.4/1.9 MB 998.3 kB/s eta 0:00:02\n",
      "   --------- ------------------------------ 0.4/1.9 MB 960.7 kB/s eta 0:00:02\n",
      "   ---------- ----------------------------- 0.5/1.9 MB 1.0 MB/s eta 0:00:02\n",
      "   ----------- ---------------------------- 0.5/1.9 MB 1.1 MB/s eta 0:00:02\n",
      "   ------------- -------------------------- 0.6/1.9 MB 1.2 MB/s eta 0:00:02\n",
      "   --------------- ------------------------ 0.7/1.9 MB 1.3 MB/s eta 0:00:01\n",
      "   --------------- ------------------------ 0.7/1.9 MB 1.2 MB/s eta 0:00:01\n",
      "   --------------- ------------------------ 0.7/1.9 MB 1.2 MB/s eta 0:00:01\n",
      "   ----------------- ---------------------- 0.8/1.9 MB 1.2 MB/s eta 0:00:01\n",
      "   ------------------- -------------------- 0.9/1.9 MB 1.2 MB/s eta 0:00:01\n",
      "   -------------------- ------------------- 1.0/1.9 MB 1.3 MB/s eta 0:00:01\n",
      "   ---------------------- ----------------- 1.0/1.9 MB 1.3 MB/s eta 0:00:01\n",
      "   ----------------------- ---------------- 1.1/1.9 MB 1.3 MB/s eta 0:00:01\n",
      "   ------------------------- -------------- 1.2/1.9 MB 1.4 MB/s eta 0:00:01\n",
      "   ---------------------------- ----------- 1.3/1.9 MB 1.4 MB/s eta 0:00:01\n",
      "   ----------------------------- ---------- 1.4/1.9 MB 1.5 MB/s eta 0:00:01\n",
      "   ------------------------------ --------- 1.5/1.9 MB 1.5 MB/s eta 0:00:01\n",
      "   ------------------------------- -------- 1.5/1.9 MB 1.5 MB/s eta 0:00:01\n",
      "   -------------------------------- ------- 1.5/1.9 MB 1.4 MB/s eta 0:00:01\n",
      "   -------------------------------- ------- 1.6/1.9 MB 1.4 MB/s eta 0:00:01\n",
      "   --------------------------------- ------ 1.6/1.9 MB 1.4 MB/s eta 0:00:01\n",
      "   ---------------------------------- ----- 1.6/1.9 MB 1.4 MB/s eta 0:00:01\n",
      "   ---------------------------------- ----- 1.6/1.9 MB 1.4 MB/s eta 0:00:01\n",
      "   ---------------------------------- ----- 1.6/1.9 MB 1.3 MB/s eta 0:00:01\n",
      "   ------------------------------------ --- 1.7/1.9 MB 1.4 MB/s eta 0:00:01\n",
      "   ------------------------------------- -- 1.8/1.9 MB 1.4 MB/s eta 0:00:01\n",
      "   -------------------------------------- - 1.8/1.9 MB 1.3 MB/s eta 0:00:01\n",
      "   -------------------------------------- - 1.8/1.9 MB 1.3 MB/s eta 0:00:01\n",
      "   ---------------------------------------  1.8/1.9 MB 1.3 MB/s eta 0:00:01\n",
      "   ---------------------------------------  1.9/1.9 MB 1.3 MB/s eta 0:00:01\n",
      "   ---------------------------------------- 1.9/1.9 MB 1.3 MB/s eta 0:00:00\n",
      "Downloading sseclient_py-1.8.0-py2.py3-none-any.whl (8.8 kB)\n",
      "Downloading annotated_types-0.6.0-py3-none-any.whl (12 kB)\n",
      "Installing collected packages: sseclient-py, websockets, pydantic-core, annotated-types, pydantic, alpaca-py\n",
      "Successfully installed alpaca-py-0.13.3 annotated-types-0.6.0 pydantic-2.5.2 pydantic-core-2.14.5 sseclient-py-1.8.0 websockets-11.0.3\n"
     ]
    }
   ],
   "source": [
    "!pip install alpaca-py\n",
    "#!pip install nltk\n",
    "#!pip install vaderSentiment\n",
    "#!pip install tensorflow"
   ]
  },
  {
   "cell_type": "code",
   "execution_count": 5,
   "id": "ed71aa3f-11df-4ea2-8032-654ed6106cd5",
   "metadata": {},
   "outputs": [],
   "source": [
    "import time"
   ]
  },
  {
   "cell_type": "code",
   "execution_count": 6,
   "id": "90f03043-6010-463c-82d0-c10c7cf20d9a",
   "metadata": {},
   "outputs": [],
   "source": [
    "from alpaca.trading.client import TradingClient\n",
    "from alpaca.trading.requests import GetAssetsRequest\n",
    "from alpaca.trading.enums import AssetClass"
   ]
  },
  {
   "cell_type": "code",
   "execution_count": 7,
   "id": "92ac4c93-a7e3-4f14-977b-4399ed144991",
   "metadata": {},
   "outputs": [],
   "source": [
    "from alpaca.trading.requests import MarketOrderRequest, LimitOrderRequest\n",
    "from alpaca.trading.enums import OrderSide, TimeInForce"
   ]
  },
  {
   "cell_type": "code",
   "execution_count": 8,
   "id": "9a3eb6cb-56db-4c0b-b31a-8b7f2f8f4ce5",
   "metadata": {},
   "outputs": [],
   "source": [
    "\n",
    "# Your API credentials\n",
    "api_key = 'PKEECQOFTN00XC2N9EQ6'\n",
    "api_secret = 'h1xslxUKlbpJt4Tu4xWRHWiePEOl2Ne90Bq6w6ha'\n"
   ]
  },
  {
   "cell_type": "code",
   "execution_count": 9,
   "id": "bcab133a-83d2-4e87-8045-19c86f7b1004",
   "metadata": {},
   "outputs": [],
   "source": [
    "# Initialize trading client for paper trading\n",
    "trading_client = TradingClient(api_key, api_secret, paper=True)\n",
    "\n",
    "# Define target profit and stop loss percentages\n",
    "target_profit = 0.05  # 15%\n",
    "stop_loss = -0.03    # -3%"
   ]
  },
  {
   "cell_type": "code",
   "execution_count": 10,
   "id": "b4ab6414-01ee-483a-9ccb-d9607fdacf36",
   "metadata": {},
   "outputs": [],
   "source": [
    "def place_market_order(symbol, quantity, side):\n",
    "    \"\"\"\n",
    "    Places a market order for the specified symbol and quantity.\n",
    "    \"\"\"\n",
    "    order_data = MarketOrderRequest(symbol=symbol, qty=quantity, side=side, time_in_force=TimeInForce.GTC)\n",
    "    return trading_client.submit_order(order_data=order_data)\n"
   ]
  },
  {
   "cell_type": "code",
   "execution_count": 11,
   "id": "3eb7119e-df35-4eb9-bf53-7f371a388b24",
   "metadata": {},
   "outputs": [],
   "source": [
    "def check_and_close_position(symbol, unrealized_plpc):\n",
    "    \"\"\"\n",
    "    Closes the position for the specified symbol if target profit or stop loss is hit.\n",
    "    \"\"\"\n",
    "    if unrealized_plpc >= target_profit or unrealized_plpc <= stop_loss:\n",
    "        trading_client.close_position(symbol)\n"
   ]
  },
  {
   "cell_type": "code",
   "execution_count": 12,
   "id": "38f143f0-70e7-4e0e-8794-1c2de1fba1fd",
   "metadata": {},
   "outputs": [],
   "source": [
    "def monitor_positions():\n",
    "    \"\"\"\n",
    "    Monitors all open positions and closes them based on profit or stop loss criteria.\n",
    "    Also throttles API requests to avoid hitting the limit.\n",
    "    \"\"\"\n",
    "    while True:\n",
    "        positions = trading_client.get_all_positions()\n",
    "        for position in positions:\n",
    "            unrealized_plpc = float(position.unrealized_plpc)\n",
    "            check_and_close_position(position.symbol, unrealized_plpc)\n",
    "        time.sleep(30)  # Adjust as needed to manage API call frequency\n",
    "\n"
   ]
  },
  {
   "cell_type": "code",
   "execution_count": null,
   "id": "e5d49107-a821-4b80-a14d-f62900db5278",
   "metadata": {},
   "outputs": [],
   "source": [
    "# Example of placing a market order\n",
    "place_market_order('BTC/USD', 0.023, OrderSide.BUY)\n",
    "\n",
    "# Start monitoring positions\n",
    "monitor_positions()"
   ]
  },
  {
   "cell_type": "code",
   "execution_count": null,
   "id": "34931c79-8c6b-4cca-b60c-33db6c24eaa0",
   "metadata": {},
   "outputs": [],
   "source": [
    "from alpaca.trading.requests import GetAssetsRequest\n",
    "from alpaca.trading.enums import AssetClass, AssetStatus\n",
    "\n",
    "search_params = GetAssetsRequest(\n",
    "    asset_class=AssetClass.CRYPTO,\n",
    "    status=AssetStatus.ACTIVE\n",
    ")\n",
    "assets = trading_client.get_all_assets(search_params)\n",
    "\n",
    "\n",
    "for asset in assets:\n",
    "    print(f\"Symbol: {asset.symbol}, Name: {asset.name}, Exchange: {asset.exchange}\")\n"
   ]
  },
  {
   "cell_type": "code",
   "execution_count": null,
   "id": "57d5a7dc-5b43-41ed-bed7-aff4a5affc8e",
   "metadata": {},
   "outputs": [],
   "source": [
    "#======="
   ]
  }
 ],
 "metadata": {
  "kernelspec": {
   "display_name": "Python 3 (ipykernel)",
   "language": "python",
   "name": "python3"
  },
  "language_info": {
   "codemirror_mode": {
    "name": "ipython",
    "version": 3
   },
   "file_extension": ".py",
   "mimetype": "text/x-python",
   "name": "python",
   "nbconvert_exporter": "python",
   "pygments_lexer": "ipython3",
   "version": "3.11.4"
  }
 },
 "nbformat": 4,
 "nbformat_minor": 5
}
